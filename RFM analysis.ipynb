{
 "cells": [
  {
   "cell_type": "code",
   "execution_count": 1,
   "id": "60e62285-d0d6-4685-a4a2-d094eb5f0c89",
   "metadata": {},
   "outputs": [],
   "source": [
    "#Eighty percent of our business comes from 20% of our customers.\n",
    "#It costs 10 times less to sell to an existing customer than to find a new customer"
   ]
  },
  {
   "cell_type": "code",
   "execution_count": null,
   "id": "9865af43-eab4-4afb-ac1c-73400fd7320f",
   "metadata": {},
   "outputs": [],
   "source": [
    "import numpy as np\n",
    "import pandas as pd\n",
    "import time, warnings\n",
    "import datetime as dt\n",
    "warnings.filterwarnings(\"ignore\")\n",
    "\n",
    "df=pd.read_csv(\"retail_data.csv\")\n",
    "df.head()\n",
    "\n",
    "# RFM Analysis\n",
    "## Recency\n",
    "# To calculate recency, we need to find out  **when was the customer's most recent purchase.**.\n",
    "# Create a new column called date which contains the date of invoice only\n",
    "\n",
    "df['date'] = pd.DatetimeIndex(df['InvoiceDate']).date\n",
    "# Group by customers and check last date of purchase\n",
    "recency_df = df.groupby(by='CustomerID', as_index=False)['date'].max()\n",
    "recency_df.columns = ['CustomerID','LastPurshaceDate']\n",
    "# Calculate recent date to find recency wrt to this date\n",
    "recent_date=recency_df.LastPurshaceDate.max()\n",
    "print(recent_date)\n",
    "# Calculate recency\n",
    "recency_df['Recency'] = recency_df['LastPurshaceDate'].apply(lambda x: (recent_date - x).days)\n",
    "recency_df.head()"
   ]
  },
  {
   "cell_type": "code",
   "execution_count": null,
   "id": "38bf2994-1b47-4859-94cd-510c87bf182d",
   "metadata": {},
   "outputs": [],
   "source": [
    "# ## Frequency\n",
    "# To calculate Frequency we need to check **How often a customer makes a purchase**.\n",
    "# Drop duplicates\n",
    "df1= df\n",
    "df1.drop_duplicates(subset=['InvoiceNo', 'CustomerID'], keep=\"first\", inplace=True)\n",
    "# Calculate the frequency of purchases\n",
    "frequency_df = df1.groupby(by=['CustomerID'], as_index=False)['InvoiceNo'].count()\n",
    "frequency_df.columns = ['CustomerID','Frequency']\n",
    "frequency_df.head()"
   ]
  },
  {
   "cell_type": "code",
   "execution_count": null,
   "id": "18cbdbe6-049c-4fc6-a4bf-4e07bc5ddac5",
   "metadata": {},
   "outputs": [],
   "source": [
    "# ## Monetary\n",
    "# To calculate Monetary value  **How much money did the customer spent during the timeframe?**\n",
    "# Create column total cost\n",
    "df['TotalCost'] = df['Quantity'] * df['UnitPrice']\n",
    "monetary_df = df.groupby(by='CustomerID',as_index=False).agg({'TotalCost': 'sum'})\n",
    "monetary_df.columns = ['CustomerID','Monetary']\n",
    "monetary_df.head()"
   ]
  },
  {
   "cell_type": "code",
   "execution_count": null,
   "id": "9b682832-09bb-4378-b8a8-96b8e1f85fec",
   "metadata": {},
   "outputs": [],
   "source": [
    "# ## Create RFM Table\n",
    "# Merge recency dataframe with frequency dataframe\n",
    "temp_df = recency_df.merge(frequency_df,on='CustomerID')\n",
    "temp_df.head()\n",
    "# Merge with monetary dataframe to get a table with the 3 columns\n",
    "rfm_df = temp_df.merge(monetary_df,on='CustomerID')\n",
    "# Use CustomerID as index\n",
    "rfm_df.set_index('CustomerID',inplace=True)\n",
    "# Check the head\n",
    "rfm_df.head()"
   ]
  },
  {
   "cell_type": "code",
   "execution_count": null,
   "id": "947e46b0-89cb-46d0-8754-0c1ed835a97d",
   "metadata": {},
   "outputs": [],
   "source": [
    "# Rank each metric R , F & M\n",
    "rfm_df['R_rank'] = rfm_df['Recency'].rank( ascending=False)\n",
    "rfm_df['F_rank'] = rfm_df['Frequency'].rank(ascending=True)\n",
    "rfm_df['M_rank'] = rfm_df['Monetary'].rank(ascending=True)\n",
    "rfm_df.head()\n",
    "# normalize each rank with Max rank\n",
    "rfm_df['R_rank_norm']=(rfm_df['R_rank']/rfm_df['R_rank'].max())*100\n",
    "rfm_df['F_rank_norm']=(rfm_df['F_rank']/rfm_df['F_rank'].max())*100\n",
    "rfm_df['M_rank_norm']=(rfm_df['F_rank']/rfm_df['M_rank'].max())*100\n",
    "rfm_df.head()\n",
    "# Now apply our equation and create final score **Consolidated Score = 0.15*R_rank_norm + 0.28*F_rank_norm + 0.57M_rank_norm**\n",
    "rfm_df['RFM_Score']=0.15*rfm_df['R_rank_norm']+0.28*rfm_df['F_rank_norm']+0.57*rfm_df['M_rank_norm']\n",
    "rfm_df=rfm_df.round(0)\n",
    "rfm_df.head()"
   ]
  },
  {
   "cell_type": "code",
   "execution_count": null,
   "id": "9365f4fd-3c45-48c3-915d-323f9568a6a7",
   "metadata": {},
   "outputs": [],
   "source": [
    "# ## Customer segments with RFM Model\n",
    "# # Segment customers based on RFM score\n",
    "# 0 - 50 - Low valued customer\n",
    "# 50 - 75 - Medium valued customer\n",
    "# 76 - 100 - High valued customer\n",
    "rfm_df[\"Customer_segment\"]=np.where(rfm_df['RFM_Score'] > 75 ,\"High Value Customer\",(np.where(rfm_df['RFM_Score'] < 50 , \"Low value Customer\" ,\"Medium Value Customer\")))\n",
    "rfm_df.head()"
   ]
  },
  {
   "cell_type": "code",
   "execution_count": null,
   "id": "4f95e690-4c3b-47b2-85f3-7b01cb0a5173",
   "metadata": {},
   "outputs": [],
   "source": [
    "#High Value Customer: They are your loyal customers.So provide constant support via customer service\n",
    "#Medium Value Customer: Send them personalized emails with offers and encourage them to shop more\n",
    "#Low Value Customer: These customers are about to churn or went into a dormant stage,apply reactivation strategies for them"
   ]
  }
 ],
 "metadata": {
  "kernelspec": {
   "display_name": "Python 3 (ipykernel)",
   "language": "python",
   "name": "python3"
  },
  "language_info": {
   "codemirror_mode": {
    "name": "ipython",
    "version": 3
   },
   "file_extension": ".py",
   "mimetype": "text/x-python",
   "name": "python",
   "nbconvert_exporter": "python",
   "pygments_lexer": "ipython3",
   "version": "3.9.12"
  }
 },
 "nbformat": 4,
 "nbformat_minor": 5
}
